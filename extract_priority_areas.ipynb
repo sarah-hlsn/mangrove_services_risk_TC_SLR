{
 "cells": [
  {
   "cell_type": "markdown",
   "metadata": {},
   "source": [
    "# Extract & mangrove priority area data from Dabalà et al."
   ]
  },
  {
   "cell_type": "code",
   "execution_count": 1,
   "metadata": {},
   "outputs": [],
   "source": [
    "import pandas as pd\n",
    "import geopandas as gpd\n",
    "from shapely.geometry import Polygon\n",
    "from pathlib import Path\n",
    "import numpy as np\n",
    "import matplotlib.pyplot as plt\n",
    "import seaborn as sns"
   ]
  },
  {
   "cell_type": "markdown",
   "metadata": {},
   "source": [
    "## Data extraction"
   ]
  },
  {
   "cell_type": "code",
   "execution_count": 3,
   "metadata": {},
   "outputs": [],
   "source": [
    "mollweide = '+proj=moll +lon_0=0 +x_0=0 +y_0=0 +datum=WGS84 +units=m +no_defs +type=crs'\n",
    "proj_eck4 = '+proj=eck4 +lon_0=0 +x_0=0 +y_0=0 +datum=WGS84 +units=m +no_defs'\n",
    "data_dir = Path('../data')\n",
    "\n",
    "files = ['result_Bio_AllWDPA',\n",
    "         'result_Bio_WDPA',\n",
    "         'result_Bio',\n",
    "         'result_BioServ_10',\n",
    "         'result_BioServ_100',\n",
    "         'result_BioServ_1000',\n",
    "         'result_BioServ_AllWDPA_rmPA',\n",
    "         'result_BioServ_AllWDPA',\n",
    "         'result_BioServ_WDPA_rmPA',\n",
    "         'result_BioServ_WDPA',\n",
    "         'result_BioServ']\n",
    "\n",
    "cols = ['ID', 'geometry']\n",
    "ssps = ['245', '370', '585']"
   ]
  },
  {
   "cell_type": "code",
   "execution_count": 3,
   "metadata": {},
   "outputs": [],
   "source": [
    "# polygon function\n",
    "def create_polygon(row):\n",
    "    points = list(zip(row['x'], row['y']))\n",
    "    return Polygon(points)"
   ]
  },
  {
   "cell_type": "code",
   "execution_count": null,
   "metadata": {},
   "outputs": [],
   "source": [
    "for filename in files:\n",
    "\n",
    "    # read file containing geometry\n",
    "    df = pd.read_csv(data_dir.joinpath(f'{filename}.csv'))\n",
    "\n",
    "    # collapse geometry columns\n",
    "    df[\"geometry_1\"] = df[\"geometry_1\"].str.strip(\"list(c(\").astype(float)\n",
    "    df[\"geometry_14\"] = df[\"geometry_14\"].str.strip(\"))\").astype(float)\n",
    "\n",
    "    # create x and y columns\n",
    "    df['x'] = list(zip(df.geometry_1, df.geometry_2, df.geometry_3, df.geometry_4, df.geometry_5, df.geometry_6, df.geometry_7))\n",
    "    df['y'] = list(zip(df.geometry_8, df.geometry_9, df.geometry_10, df.geometry_11, df.geometry_12, df.geometry_13, df.geometry_14))\n",
    "\n",
    "    # construct gdf\n",
    "    # apply function to each row to create a geometry column\n",
    "    df['geometry'] = df.apply(create_polygon, axis=1)\n",
    "    # drop unnecessary columns\n",
    "    df = df[cols]\n",
    "    # convert df to gdf\n",
    "    gdf = gpd.GeoDataFrame(df, geometry='geometry')\n",
    "    # set native crs\n",
    "    gdf.set_crs(mollweide, inplace=True)\n",
    "    gdf['geometry'] = gdf['geometry'].buffer(0) # buffer by 0 to fix minor topological issues\n",
    "\n",
    "    # merge with remaining data\n",
    "    data_df = pd.read_csv(data_dir.joinpath(f'{filename}_no_geom.csv'))\n",
    "    gdf_merged = gdf.merge(data_df, on='ID')\n",
    "\n",
    "    # save\n",
    "    gdf_merged.to_csv(data_dir.joinpath(f'{filename}_gdf.csv'), index=False)"
   ]
  },
  {
   "cell_type": "markdown",
   "metadata": {},
   "source": [
    "### Join with mangrove data"
   ]
  },
  {
   "cell_type": "code",
   "execution_count": 5,
   "metadata": {},
   "outputs": [],
   "source": [
    "# load priority area file\n",
    "cols = ['ID', 'geometry', 'rank', 'AreaGMWKm', 'Fishing_Intensity',\n",
    "       'soil_carbon', 'biomass_carbon', 'InvFish', 'InvProperty', 'InvPeople',\n",
    "       'InvCarbon', 'TOT_STOCK', 'POP', 'InvPropertyCost', 'InvPeopleCost',\n",
    "       'InvFishCost', 'Tot_Carbon', 'InvCarbonCost', 'Fishing_Intensity_prc',\n",
    "       'TOT_STOCK_prc', 'POP_prc', 'Tot_Carbon_prc', 'country', 'continent']\n",
    "\n",
    "pa_df = pd.read_csv(data_dir.joinpath('gdf', 'result_BioServ_gdf.csv'))\n",
    "pa_df = pa_df[cols]\n",
    "pa_df['geometry'] = gpd.GeoSeries.from_wkt(pa_df['geometry'])\n",
    "pa_gdf = gpd.GeoDataFrame(pa_df, geometry='geometry', crs=mollweide)\n",
    "\n",
    "for ssp in ssps:\n",
    "    df = pd.read_csv(data_dir.joinpath(f'Bunting_mangroves_TC_global_0150as_MIT_median_ssp{ssp}_2cal_risk.csv'))\n",
    "    df = df.drop(columns=['index_right'])\n",
    "    df['geometry'] = gpd.GeoSeries.from_wkt(df['geometry'])\n",
    "    gdf = gpd.GeoDataFrame(df, geometry='geometry', crs=\"EPSG:4326\")\n",
    "    gdf = gdf.to_crs(mollweide)\n",
    "    join = gpd.sjoin_nearest(gdf, pa_gdf, how='inner', max_distance=100)\n",
    "    join = join.to_crs(epsg=4326)\n",
    "    join.to_csv(data_dir.joinpath(f'Bunting_mangroves_TC_global_0150as_MIT_median_ssp{ssp}_2cal_risk_BioServ.csv'), index=False)\n"
   ]
  }
 ],
 "metadata": {
  "kernelspec": {
   "display_name": "climada_env",
   "language": "python",
   "name": "python3"
  },
  "language_info": {
   "codemirror_mode": {
    "name": "ipython",
    "version": 3
   },
   "file_extension": ".py",
   "mimetype": "text/x-python",
   "name": "python",
   "nbconvert_exporter": "python",
   "pygments_lexer": "ipython3",
   "version": "3.9.18"
  }
 },
 "nbformat": 4,
 "nbformat_minor": 2
}
