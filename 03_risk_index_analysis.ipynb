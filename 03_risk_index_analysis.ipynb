{
 "cells": [
  {
   "cell_type": "markdown",
   "metadata": {},
   "source": [
    "# Risk Analysis\n",
    "Author: Sarah Hülsen\n",
    "\n",
    "Code to replicate main results of *Mangroves and their services are at risk from tropical cyclones and sea level rise under climate change*.\n",
    "This notebook contains code to calculate:\n",
    "* the combined risk index\n",
    "* global mangrove areas at risk\n",
    "* Dabalà et al. priority areas at risk\n",
    "* the area-weighted risk index for the planning units by Dabalà"
   ]
  },
  {
   "cell_type": "markdown",
   "metadata": {},
   "source": [
    "# Calculate composite risk index"
   ]
  },
  {
   "cell_type": "code",
   "execution_count": null,
   "metadata": {},
   "outputs": [],
   "source": [
    "from pathlib import Path\n",
    "import numpy as np\n",
    "import geopandas as gpd \n",
    "import pandas as pd\n"
   ]
  },
  {
   "cell_type": "code",
   "execution_count": null,
   "metadata": {},
   "outputs": [],
   "source": [
    "# define data path\n",
    "data_dir = Path(\"../../data/\")\n",
    "fig_dir = Path(\"../../figures\")"
   ]
  },
  {
   "cell_type": "code",
   "execution_count": null,
   "metadata": {},
   "outputs": [],
   "source": [
    "# define variables for analysis\n",
    "models = ['miroc6', 'cesm2', 'ecearth6', 'median']\n",
    "ssps = ['245', '370', '585']\n",
    "resolution = '0150'\n",
    "mollweide = '+proj=moll +lon_0=0 +x_0=0 +y_0=0 +datum=WGS84 +units=m +no_defs +type=crs'\n",
    "proj_eck4 = '+proj=eck4 +lon_0=0 +x_0=0 +y_0=0 +datum=WGS84 +units=m +no_defs'"
   ]
  },
  {
   "cell_type": "markdown",
   "metadata": {},
   "source": [
    "## Combined risk index computation"
   ]
  },
  {
   "cell_type": "code",
   "execution_count": null,
   "metadata": {},
   "outputs": [],
   "source": [
    "threshold = 1 # doubling in frequency\n",
    "\n",
    "for ssp in ssps:\n",
    "    df = pd.read_csv(data_dir.joinpath(f'Bunting_mangroves_TC_global_{resolution}as_MIT_median_ssp{ssp}_2cal_changemap_analysed.csv'))\n",
    "    df[f'risk'] = 0\n",
    "    \n",
    "    for cat in range(1, 4):\n",
    "        # define risk per TC intensity category\n",
    "        df[f'TC{cat}_risk'] = np.where((df[f'TC{cat}_ratio'] >= threshold) | (df[f'TC{cat}_new_affected'] ==1), 1, 0) # convert TC data to risk indicator\n",
    "        df[f'risk'] = np.where(df[f'RSLR{cat}_ssp{ssp}'] == 1, cat, df[f'risk']) # RSLR information to risk column\n",
    "    \n",
    "    # keep only highest risk category\n",
    "    df['TC1_risk'] = np.where((df['TC2_risk']==1) | (df['TC3_risk'] ==1), 0, df['TC1_risk'])\n",
    "    df['TC2_risk'] = np.where(df['TC3_risk']==1, 0, df['TC2_risk'])\n",
    "   \n",
    "    # adjust risk index with TC information\n",
    "    df['risk'] = np.where(df['TC2_risk'] == 1, (df[f'risk'] + 1), df['risk'])\n",
    "    df['risk'] = np.where(df['TC3_risk'] == 1, (df[f'risk'] + 2), df['risk'])\n",
    "    df['risk'] = np.where((df['TC1_risk']==0) & (df['TC2_risk']==0) & (df['TC3_risk'] ==0), 0, df['risk'])\n",
    "    \n",
    "    # save\n",
    "    df.to_csv(data_dir.joinpath(f'Bunting_mangroves_TC_global_{resolution}as_MIT_median_ssp{ssp}_2cal_risk.csv'), index=False)\n",
    "        "
   ]
  },
  {
   "cell_type": "markdown",
   "metadata": {},
   "source": [
    "## Mangrove areal extent at risk statistics"
   ]
  },
  {
   "cell_type": "code",
   "execution_count": null,
   "metadata": {},
   "outputs": [],
   "source": [
    "cols = ['area', 'risk']\n",
    "df_list = []\n",
    "for ssp in ssps:\n",
    "    df = pd.read_csv(data_dir.joinpath(f'Bunting_mangroves_TC_global_{resolution}as_MIT_median_ssp{ssp}_2cal_risk.csv'))\n",
    "    df = df[cols]\n",
    "    total_area = df['area'].sum()\n",
    "    df = df.groupby('risk').sum()\n",
    "    df[f'SSP{ssp}'] = df['area']/total_area*100\n",
    "    df = df.drop(columns='area')\n",
    "    df = df.transpose()\n",
    "    df_list.append(df)\n",
    "dataframes = pd.concat(df_list)\n",
    "dataframes = dataframes.fillna(0)\n",
    "#dataframes = dataframes.round(2)\n",
    "dataframes.to_csv(data_dir.joinpath(f'Bunting_mangroves_TC_global_{resolution}as_MIT_median_2cal_risk_area_percentages.csv'), index='risk')\n"
   ]
  },
  {
   "cell_type": "code",
   "execution_count": null,
   "metadata": {},
   "outputs": [
    {
     "data": {
      "text/html": [
       "<div>\n",
       "<style scoped>\n",
       "    .dataframe tbody tr th:only-of-type {\n",
       "        vertical-align: middle;\n",
       "    }\n",
       "\n",
       "    .dataframe tbody tr th {\n",
       "        vertical-align: top;\n",
       "    }\n",
       "\n",
       "    .dataframe thead th {\n",
       "        text-align: right;\n",
       "    }\n",
       "</style>\n",
       "<table border=\"1\" class=\"dataframe\">\n",
       "  <thead>\n",
       "    <tr style=\"text-align: right;\">\n",
       "      <th>risk</th>\n",
       "      <th>0</th>\n",
       "      <th>1</th>\n",
       "      <th>2</th>\n",
       "      <th>3</th>\n",
       "      <th>4</th>\n",
       "      <th>5</th>\n",
       "    </tr>\n",
       "  </thead>\n",
       "  <tbody>\n",
       "    <tr>\n",
       "      <th>SSP245</th>\n",
       "      <td>50.509169</td>\n",
       "      <td>0.002316</td>\n",
       "      <td>9.242950</td>\n",
       "      <td>24.353509</td>\n",
       "      <td>14.621361</td>\n",
       "      <td>1.270695</td>\n",
       "    </tr>\n",
       "    <tr>\n",
       "      <th>SSP370</th>\n",
       "      <td>52.701139</td>\n",
       "      <td>0.000000</td>\n",
       "      <td>1.302925</td>\n",
       "      <td>9.602359</td>\n",
       "      <td>23.506331</td>\n",
       "      <td>12.887247</td>\n",
       "    </tr>\n",
       "    <tr>\n",
       "      <th>SSP585</th>\n",
       "      <td>44.437913</td>\n",
       "      <td>0.000000</td>\n",
       "      <td>0.001729</td>\n",
       "      <td>9.579851</td>\n",
       "      <td>26.482559</td>\n",
       "      <td>19.497949</td>\n",
       "    </tr>\n",
       "  </tbody>\n",
       "</table>\n",
       "</div>"
      ],
      "text/plain": [
       "risk            0         1         2          3          4          5\n",
       "SSP245  50.509169  0.002316  9.242950  24.353509  14.621361   1.270695\n",
       "SSP370  52.701139  0.000000  1.302925   9.602359  23.506331  12.887247\n",
       "SSP585  44.437913  0.000000  0.001729   9.579851  26.482559  19.497949"
      ]
     },
     "metadata": {},
     "output_type": "display_data"
    }
   ],
   "source": [
    "dataframes"
   ]
  },
  {
   "cell_type": "markdown",
   "metadata": {},
   "source": [
    "## Priority areas at risk "
   ]
  },
  {
   "cell_type": "markdown",
   "metadata": {},
   "source": [
    "### Merge risk index with mangrove priority area data"
   ]
  },
  {
   "cell_type": "code",
   "execution_count": null,
   "metadata": {},
   "outputs": [],
   "source": [
    "# load priority area file\n",
    "cols = ['ID', 'geometry', 'rank', 'AreaGMWKm', 'Fishing_Intensity',\n",
    "       'soil_carbon', 'biomass_carbon', 'InvFish', 'InvProperty', 'InvPeople',\n",
    "       'InvCarbon', 'TOT_STOCK', 'POP', 'InvPropertyCost', 'InvPeopleCost',\n",
    "       'InvFishCost', 'Tot_Carbon', 'InvCarbonCost', 'Fishing_Intensity_prc',\n",
    "       'TOT_STOCK_prc', 'POP_prc', 'Tot_Carbon_prc', 'country', 'continent']\n",
    "\n",
    "pa_df = pd.read_csv(data_dir.joinpath('result_BioServ_gdf.csv'))\n",
    "pa_df = pa_df[cols]\n",
    "pa_df['geometry'] = gpd.GeoSeries.from_wkt(pa_df['geometry'])\n",
    "pa_gdf = gpd.GeoDataFrame(pa_df, geometry='geometry', crs=mollweide)\n",
    "\n",
    "for ssp in ssps:\n",
    "    df = pd.read_csv(data_dir.joinpath(f'Bunting_mangroves_TC_global_0150as_MIT_median_ssp{ssp}_2cal_risk.csv'))\n",
    "    df = df.drop(columns=['index_right'])\n",
    "    df['geometry'] = gpd.GeoSeries.from_wkt(df['geometry'])\n",
    "    gdf = gpd.GeoDataFrame(df, geometry='geometry', crs=\"EPSG:4326\")\n",
    "    gdf = gdf.to_crs(mollweide)\n",
    "    join = gpd.sjoin_nearest(gdf, pa_gdf, how='inner', max_distance=100)\n",
    "    join = join.to_crs(epsg=4326)\n",
    "    join.to_csv(data_dir.joinpath(f'Bunting_mangroves_TC_global_0150as_MIT_median_ssp{ssp}_2cal_risk_BioServ.csv'), index=False)"
   ]
  },
  {
   "cell_type": "code",
   "execution_count": null,
   "metadata": {},
   "outputs": [
    {
     "name": "stdout",
     "output_type": "stream",
     "text": [
      "8.0\n",
      "2.0\n"
     ]
    }
   ],
   "source": [
    "# calculate priority ranks for 25th and 10th percentile priority areas\n",
    "df = pd.read_csv(data_dir.joinpath('result_BioServ_gdf.csv'))\n",
    "data = df['rank']\n",
    "p25 = np.percentile(data, 25)\n",
    "p10 = np.percentile(data, 10)\n",
    "print(p25)\n",
    "print(p10)"
   ]
  },
  {
   "cell_type": "code",
   "execution_count": null,
   "metadata": {},
   "outputs": [],
   "source": [
    "cols = ['area', 'risk']\n",
    "df_list = []\n",
    "for ssp in ssps:\n",
    "    df = pd.read_csv(data_dir.joinpath(f'Bunting_mangroves_TC_global_0150as_MIT_median_ssp{ssp}_2cal_risk_BioServ.csv'))\n",
    "    df = df[df['rank']<=p25]\n",
    "    total_area = df['area'].sum()\n",
    "    df = df[cols]\n",
    "    df = df.groupby('risk').sum()\n",
    "    df[f'SSP{ssp}'] = df['area']/total_area*100\n",
    "    df = df.drop(columns='area')\n",
    "    df = df.transpose()\n",
    "    df_list.append(df)\n",
    "dataframes = pd.concat(df_list)\n",
    "dataframes = dataframes.fillna(0)\n",
    "#dataframes = dataframes.round(2)\n",
    "dataframes.to_csv(data_dir.joinpath(f'Bunting_mangroves_TC_global_0150as_MIT_median_2cal_risk_BioServ_area_percentages_p25.csv'), index= 'risk')"
   ]
  },
  {
   "cell_type": "code",
   "execution_count": null,
   "metadata": {},
   "outputs": [
    {
     "data": {
      "text/html": [
       "<div>\n",
       "<style scoped>\n",
       "    .dataframe tbody tr th:only-of-type {\n",
       "        vertical-align: middle;\n",
       "    }\n",
       "\n",
       "    .dataframe tbody tr th {\n",
       "        vertical-align: top;\n",
       "    }\n",
       "\n",
       "    .dataframe thead th {\n",
       "        text-align: right;\n",
       "    }\n",
       "</style>\n",
       "<table border=\"1\" class=\"dataframe\">\n",
       "  <thead>\n",
       "    <tr style=\"text-align: right;\">\n",
       "      <th>risk</th>\n",
       "      <th>0</th>\n",
       "      <th>1</th>\n",
       "      <th>2</th>\n",
       "      <th>3</th>\n",
       "      <th>4</th>\n",
       "      <th>5</th>\n",
       "    </tr>\n",
       "  </thead>\n",
       "  <tbody>\n",
       "    <tr>\n",
       "      <th>SSP245</th>\n",
       "      <td>31.928173</td>\n",
       "      <td>0.017309</td>\n",
       "      <td>25.347788</td>\n",
       "      <td>26.960157</td>\n",
       "      <td>15.527844</td>\n",
       "      <td>0.218729</td>\n",
       "    </tr>\n",
       "    <tr>\n",
       "      <th>SSP370</th>\n",
       "      <td>37.828239</td>\n",
       "      <td>0.000000</td>\n",
       "      <td>0.928897</td>\n",
       "      <td>17.089379</td>\n",
       "      <td>29.030091</td>\n",
       "      <td>15.123394</td>\n",
       "    </tr>\n",
       "    <tr>\n",
       "      <th>SSP585</th>\n",
       "      <td>28.566080</td>\n",
       "      <td>0.000000</td>\n",
       "      <td>0.017309</td>\n",
       "      <td>20.250120</td>\n",
       "      <td>28.451217</td>\n",
       "      <td>22.715273</td>\n",
       "    </tr>\n",
       "  </tbody>\n",
       "</table>\n",
       "</div>"
      ],
      "text/plain": [
       "risk            0         1          2          3          4          5\n",
       "SSP245  31.928173  0.017309  25.347788  26.960157  15.527844   0.218729\n",
       "SSP370  37.828239  0.000000   0.928897  17.089379  29.030091  15.123394\n",
       "SSP585  28.566080  0.000000   0.017309  20.250120  28.451217  22.715273"
      ]
     },
     "metadata": {},
     "output_type": "display_data"
    }
   ],
   "source": [
    "dataframes"
   ]
  },
  {
   "cell_type": "code",
   "execution_count": null,
   "metadata": {},
   "outputs": [],
   "source": [
    "cols = ['area', 'risk']\n",
    "df_list = []\n",
    "for ssp in ssps:\n",
    "    df = pd.read_csv(data_dir.joinpath(f'Bunting_mangroves_TC_global_0150as_MIT_median_ssp{ssp}_2cal_risk_BioServ.csv'))\n",
    "    df = df[df['rank']<=p10]\n",
    "    total_area = df['area'].sum()\n",
    "    df = df[cols]\n",
    "    df = df.groupby('risk').sum()\n",
    "    df[f'SSP{ssp}'] = df['area']/total_area*100\n",
    "    df = df.drop(columns='area')\n",
    "    df = df.transpose()\n",
    "    df_list.append(df)\n",
    "dataframes = pd.concat(df_list)\n",
    "dataframes = dataframes.fillna(0)\n",
    "#dataframes = dataframes.round(2)\n",
    "dataframes.to_csv(data_dir.joinpath(f'Bunting_mangroves_TC_global_0150as_MIT_median_2cal_risk_BioServ_area_percentages_p10.csv'), index= 'risk')"
   ]
  },
  {
   "cell_type": "code",
   "execution_count": null,
   "metadata": {},
   "outputs": [
    {
     "data": {
      "text/html": [
       "<div>\n",
       "<style scoped>\n",
       "    .dataframe tbody tr th:only-of-type {\n",
       "        vertical-align: middle;\n",
       "    }\n",
       "\n",
       "    .dataframe tbody tr th {\n",
       "        vertical-align: top;\n",
       "    }\n",
       "\n",
       "    .dataframe thead th {\n",
       "        text-align: right;\n",
       "    }\n",
       "</style>\n",
       "<table border=\"1\" class=\"dataframe\">\n",
       "  <thead>\n",
       "    <tr style=\"text-align: right;\">\n",
       "      <th>risk</th>\n",
       "      <th>0</th>\n",
       "      <th>1</th>\n",
       "      <th>2</th>\n",
       "      <th>3</th>\n",
       "      <th>4</th>\n",
       "      <th>5</th>\n",
       "    </tr>\n",
       "  </thead>\n",
       "  <tbody>\n",
       "    <tr>\n",
       "      <th>SSP245</th>\n",
       "      <td>29.067679</td>\n",
       "      <td>0.022468</td>\n",
       "      <td>11.401565</td>\n",
       "      <td>34.694614</td>\n",
       "      <td>23.997368</td>\n",
       "      <td>0.816306</td>\n",
       "    </tr>\n",
       "    <tr>\n",
       "      <th>SSP370</th>\n",
       "      <td>30.203163</td>\n",
       "      <td>0.000000</td>\n",
       "      <td>0.023574</td>\n",
       "      <td>11.357574</td>\n",
       "      <td>33.440037</td>\n",
       "      <td>24.975652</td>\n",
       "    </tr>\n",
       "    <tr>\n",
       "      <th>SSP585</th>\n",
       "      <td>26.273860</td>\n",
       "      <td>0.000000</td>\n",
       "      <td>0.022468</td>\n",
       "      <td>3.165306</td>\n",
       "      <td>36.188620</td>\n",
       "      <td>34.349746</td>\n",
       "    </tr>\n",
       "  </tbody>\n",
       "</table>\n",
       "</div>"
      ],
      "text/plain": [
       "risk            0         1          2          3          4          5\n",
       "SSP245  29.067679  0.022468  11.401565  34.694614  23.997368   0.816306\n",
       "SSP370  30.203163  0.000000   0.023574  11.357574  33.440037  24.975652\n",
       "SSP585  26.273860  0.000000   0.022468   3.165306  36.188620  34.349746"
      ]
     },
     "metadata": {},
     "output_type": "display_data"
    }
   ],
   "source": [
    "dataframes"
   ]
  },
  {
   "cell_type": "markdown",
   "metadata": {},
   "source": [
    "## Area-weighted risk scores per priority unit"
   ]
  },
  {
   "cell_type": "code",
   "execution_count": null,
   "metadata": {},
   "outputs": [],
   "source": [
    "cols = ['ID', 'risk', 'area']\n",
    "dfs = []\n",
    "\n",
    "# compute average risk score per PA ID (across all mangrove centroids associated with ID)\n",
    "for ssp in ssps:\n",
    "    df = pd.read_csv(data_dir.joinpath(f'Bunting_mangroves_TC_global_0150as_MIT_median_ssp{ssp}_2cal_risk_BioServ.csv'))\n",
    "    df = df[cols]\n",
    "    df = df.groupby(['ID', 'risk'], as_index=False)[['area']].sum()\n",
    "    \n",
    "    result = df.groupby('ID').apply(lambda x: pd.Series({\n",
    "        f'ssp{ssp}_weighted_risk': (x['risk'] * x['area']).sum() / x['area'].sum(),\n",
    "        'area': x['area'].sum()\n",
    "    })).reset_index()\n",
    "    \n",
    "    result[f'ssp{ssp}_weighted_risk'] = result[f'ssp{ssp}_weighted_risk'].astype('int')\n",
    "    dfs.append(result)\n",
    "\n",
    "final_df = dfs[0]\n",
    "for i, df in enumerate(dfs[1:], start=1):\n",
    "    ssp = ssps[i]\n",
    "    final_df = final_df.merge(df[['ID', f'ssp{ssp}_weighted_risk']], on='ID', how='outer')\n",
    "\n",
    "final_df = final_df.loc[:, ~final_df.columns.duplicated()]\n",
    "final_df.to_csv(data_dir.joinpath('PA_risk_area_weighted_all_ssps.csv'), index=False)\n",
    "\n",
    "# merge back with PA data\n",
    "cols = ['ID', 'geometry', 'rank', 'AreaGMWKm', 'Fishing_Intensity',\n",
    "       'soil_carbon', 'biomass_carbon', 'InvFish', 'InvProperty', 'InvPeople',\n",
    "       'InvCarbon', 'TOT_STOCK', 'POP', 'InvPropertyCost', 'InvPeopleCost',\n",
    "       'InvFishCost', 'Tot_Carbon', 'InvCarbonCost', 'Fishing_Intensity_prc',\n",
    "       'TOT_STOCK_prc', 'POP_prc', 'Tot_Carbon_prc', 'country', 'continent']\n",
    "\n",
    "pa_df = pd.read_csv(data_dir.joinpath('gdf', 'result_BioServ_gdf.csv'))\n",
    "pa_df = pa_df[cols]\n",
    "combined_df = final_df.merge(pa_df, on='ID', how='left')\n",
    "combined_df.to_csv(data_dir.joinpath(f'Bunting_mangroves_TC_global_0150as_MIT_median_BioServ_area_weighted_risk_PUs_all_ssps.csv'), index= 'risk')"
   ]
  }
 ],
 "metadata": {
  "language_info": {
   "name": "python"
  }
 },
 "nbformat": 4,
 "nbformat_minor": 2
}
