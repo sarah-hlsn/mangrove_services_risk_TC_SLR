{
 "cells": [
  {
   "cell_type": "markdown",
   "metadata": {},
   "source": [
    "# Extract mangrove centroids\n",
    "This notebook extracts mangrove data through the following steps:\n",
    "* calculate centroids of mangrove polygons"
   ]
  },
  {
   "cell_type": "code",
   "execution_count": 2,
   "metadata": {},
   "outputs": [],
   "source": [
    "import geopandas as gpd\n",
    "from pathlib import Path\n",
    "\n",
    "# define data paths \n",
    "data_dir = Path(\"../../data\")"
   ]
  },
  {
   "cell_type": "code",
   "execution_count": 6,
   "metadata": {},
   "outputs": [],
   "source": [
    "# define data to be analysed\n",
    "hab = 'mangroves'\n",
    "source = 'Bunting'\n",
    "year = '2020'\n",
    "tc_basins = ['AP', 'IO', 'SH', 'WP']\n",
    "cols = ['geometry', 'area', 'longitude', 'latitude']\n",
    "\n",
    "# read data\n",
    "data = gpd.read_file(data_dir.joinpath('mangroves', 'Bunting_mangroves', 'gmw_v3_2020_vec', 'gmw_v3_2020_vec.shp'))\n",
    "\n",
    "# calculate polygon areas\n",
    "proj_eck4 = '+proj=eck4 +lon_0=0 +x_0=0 +y_0=0 +datum=WGS84 +units=m +no_defs'  # Eckert IV projection\n",
    "data = data.to_crs(proj_eck4) # project layer to equal area projection\n",
    "data['area'] = data['geometry'].area\n",
    "\n",
    "# extract polygon centroids\n",
    "data_cents = data.copy()\n",
    "data_cents.geometry = data_cents['geometry'].centroid\n",
    "data_cents = data_cents.to_crs(4326) # crs back to WGS84\n",
    "\n",
    "# save as csv for further analysis\n",
    "data_cents['longitude'] = data_cents['geometry'].x\n",
    "data_cents['latitude'] = data_cents['geometry'].y\n",
    "data_cents = data_cents[cols]\n",
    "data_cents.to_csv(data_dir.joinpath(f'{source}_{hab}_{year}_global.csv'), index=False)"
   ]
  }
 ],
 "metadata": {
  "kernelspec": {
   "display_name": "climada_env",
   "language": "python",
   "name": "python3"
  },
  "language_info": {
   "codemirror_mode": {
    "name": "ipython",
    "version": 3
   },
   "file_extension": ".py",
   "mimetype": "text/x-python",
   "name": "python",
   "nbconvert_exporter": "python",
   "pygments_lexer": "ipython3",
   "version": "3.9.18"
  }
 },
 "nbformat": 4,
 "nbformat_minor": 2
}
